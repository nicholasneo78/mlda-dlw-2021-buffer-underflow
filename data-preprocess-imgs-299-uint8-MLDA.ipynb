{
 "cells": [
  {
   "cell_type": "code",
   "execution_count": 1,
   "metadata": {},
   "outputs": [],
   "source": [
    "import numpy as np\n",
    "import pandas as pd\n",
    "import glob\n",
    "import h5py\n",
    "import os\n",
    "import cv2\n",
    "import math\n",
    "import time\n",
    "import matplotlib.pyplot as plt\n",
    "from tensorflow.keras.preprocessing.image import load_img, img_to_array\n",
    "from tensorflow.keras.utils import to_categorical\n",
    "\n",
    "from tqdm import tqdm"
   ]
  },
  {
   "cell_type": "code",
   "execution_count": 2,
   "metadata": {},
   "outputs": [
    {
     "name": "stdout",
     "output_type": "stream",
     "text": [
      "float info\n",
      "- bits\t\t 8 bits\n",
      "- range\t\t 0 to 255\n"
     ]
    }
   ],
   "source": [
    "# data type evaluation\n",
    "intInfo = np.iinfo(np.uint8)\n",
    "print(\"float info\")\n",
    "print(\"- bits\\t\\t\", f\"{intInfo.bits} bits\")\n",
    "print(\"- range\\t\\t\",f\"{intInfo.min} to {intInfo.max}\")"
   ]
  },
  {
   "cell_type": "code",
   "execution_count": 3,
   "metadata": {},
   "outputs": [
    {
     "name": "stdout",
     "output_type": "stream",
     "text": [
      "float info\n",
      "- bits\t\t 16 bits\n",
      "- range\t\t -65504.0 to 65504.0\n",
      "- precision\t 3 decimal digits \n"
     ]
    }
   ],
   "source": [
    "# ref: \n",
    "floatInfo = np.finfo(np.float16)\n",
    "print(\"float info\")\n",
    "print(\"- bits\\t\\t\", f\"{floatInfo.bits} bits\")\n",
    "print(\"- range\\t\\t\",f\"{floatInfo.min} to {floatInfo.max}\")\n",
    "print(\"- precision\\t\",f\"{floatInfo.precision} decimal digits \"  )"
   ]
  },
  {
   "cell_type": "code",
   "execution_count": null,
   "metadata": {},
   "outputs": [],
   "source": [
    "# load data into np.array\n",
    "\n",
    "# create a lookup table for filename and the type of disease\n",
    "df = pd.DataFrame()\n",
    "\n",
    "# "
   ]
  }
 ],
 "metadata": {
  "kernelspec": {
   "display_name": "Python 3",
   "language": "python",
   "name": "python3"
  },
  "language_info": {
   "codemirror_mode": {
    "name": "ipython",
    "version": 3
   },
   "file_extension": ".py",
   "mimetype": "text/x-python",
   "name": "python",
   "nbconvert_exporter": "python",
   "pygments_lexer": "ipython3",
   "version": "3.7.7"
  }
 },
 "nbformat": 4,
 "nbformat_minor": 4
}
